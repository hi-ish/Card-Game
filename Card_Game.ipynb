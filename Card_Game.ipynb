{
 "cells": [
  {
   "cell_type": "code",
   "execution_count": 1,
   "id": "ff0bde01",
   "metadata": {},
   "outputs": [],
   "source": [
    "import random"
   ]
  },
  {
   "cell_type": "code",
   "execution_count": 31,
   "id": "098505db",
   "metadata": {},
   "outputs": [
    {
     "data": {
      "text/plain": [
       "['A', '2', '3', '4', '5', '6', '7', '8', '9', '10', 'J', 'Q', 'K']"
      ]
     },
     "execution_count": 31,
     "metadata": {},
     "output_type": "execute_result"
    }
   ],
   "source": [
    "cards = 'A 2 3 4 5 6 7 8 9 10 J Q K'.split(' ')\n",
    "cards"
   ]
  },
  {
   "cell_type": "code",
   "execution_count": 32,
   "id": "a468b994",
   "metadata": {},
   "outputs": [
    {
     "data": {
      "text/plain": [
       "['spades♣', 'jacks♠', 'diamonds♦', 'hearts♥']"
      ]
     },
     "execution_count": 32,
     "metadata": {},
     "output_type": "execute_result"
    }
   ],
   "source": [
    "suits = 'spades♣ jacks♠ diamonds♦ hearts♥'.split(' ')\n",
    "suits"
   ]
  },
  {
   "cell_type": "code",
   "execution_count": 46,
   "id": "0646a091",
   "metadata": {},
   "outputs": [
    {
     "name": "stdout",
     "output_type": "stream",
     "text": [
      "['A spades♣', 'A jacks♠', 'A diamonds♦', 'A hearts♥', '2 spades♣', '2 jacks♠', '2 diamonds♦', '2 hearts♥', '3 spades♣', '3 jacks♠', '3 diamonds♦', '3 hearts♥', '4 spades♣', '4 jacks♠', '4 diamonds♦', '4 hearts♥', '5 spades♣', '5 jacks♠', '5 diamonds♦', '5 hearts♥', '6 spades♣', '6 jacks♠', '6 diamonds♦', '6 hearts♥', '7 spades♣', '7 jacks♠', '7 diamonds♦', '7 hearts♥', '8 spades♣', '8 jacks♠', '8 diamonds♦', '8 hearts♥', '9 spades♣', '9 jacks♠', '9 diamonds♦', '9 hearts♥', '10 spades♣', '10 jacks♠', '10 diamonds♦', '10 hearts♥', 'J spades♣', 'J jacks♠', 'J diamonds♦', 'J hearts♥', 'Q spades♣', 'Q jacks♠', 'Q diamonds♦', 'Q hearts♥', 'K spades♣', 'K jacks♠', 'K diamonds♦', 'K hearts♥']\n",
      "52 cards\n"
     ]
    }
   ],
   "source": [
    "deck = []\n",
    "for i in cards:\n",
    "    for j in suits:\n",
    "       deck.append(f'{i} {j}') \n",
    "print(deck)\n",
    "print(len(deck),'cards')"
   ]
  },
  {
   "cell_type": "code",
   "execution_count": 63,
   "id": "928ff991",
   "metadata": {},
   "outputs": [
    {
     "name": "stdout",
     "output_type": "stream",
     "text": [
      "Player 1 has cards\n",
      " ['10 diamonds♦', '6 diamonds♦', 'K diamonds♦']\n",
      "Player 2 has cards\n",
      " ['7 diamonds♦', '9 hearts♥', 'A spades♣']\n"
     ]
    }
   ],
   "source": [
    "player1 = []\n",
    "player2 = []\n",
    "\n",
    "# player1.append(random.choice(deck))\n",
    "shuffle = random.sample(deck, 6)\n",
    "middle_shuffle_card = len(shuffle)//2\n",
    "player1 = shuffle[:middle_shuffle_card]\n",
    "player2 = shuffle[middle_shuffle_card:]\n",
    "# player1.append(shuffle)\n",
    "print('Player 1 has cards\\n',player1)\n",
    "# player2.append(random.choice(deck))\n",
    "print('Player 2 has cards\\n',player2)\n"
   ]
  },
  {
   "cell_type": "code",
   "execution_count": null,
   "id": "d339b428",
   "metadata": {},
   "outputs": [],
   "source": []
  }
 ],
 "metadata": {
  "kernelspec": {
   "display_name": "Python 3",
   "language": "python",
   "name": "python3"
  },
  "language_info": {
   "codemirror_mode": {
    "name": "ipython",
    "version": 3
   },
   "file_extension": ".py",
   "mimetype": "text/x-python",
   "name": "python",
   "nbconvert_exporter": "python",
   "pygments_lexer": "ipython3",
   "version": "3.9.5"
  }
 },
 "nbformat": 4,
 "nbformat_minor": 5
}
